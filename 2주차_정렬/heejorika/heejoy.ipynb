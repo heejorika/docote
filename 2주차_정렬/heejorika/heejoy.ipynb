{
 "cells": [
  {
   "cell_type": "code",
   "execution_count": 1,
   "metadata": {},
   "outputs": [],
   "source": [
    "import sys\n",
    "\n",
    "N_MIN = 1; N_MAX = 100000\n",
    "K_MIN = 0\n",
    "LIST_VALUE_MIN = 1; LIST_VALUE_MAX = 10000000\n",
    "\n",
    "class Change2List:\n",
    "    def __init__ (self):\n",
    "        self.N, self.K, self.A, self.B = None, None, None, None\n",
    "        self.max_sum = None\n",
    "        \n",
    "    def inputAllValue(self):\n",
    "        self.inputNK()\n",
    "        self.A = self.inputList()\n",
    "        self.B = self.inputList()\n",
    "        \n",
    "    def inputNK(self):\n",
    "        nk = input().split()     \n",
    "        if len(nk)!=2: sys.exit()  # 두개를 입력받은 것이 맞는지\n",
    "        if any(i.isalpha() for i in nk): sys.exit() # 원소 중에 하나라도 문자열이 잇을 경우\n",
    "    \n",
    "        N, K = int(nk[0]), int(nk[1])\n",
    "        if N<N_MIN or N>N_MAX: sys.exit()\n",
    "        if K<K_MIN or K>N: sys.exit()\n",
    "        \n",
    "        self.N = N\n",
    "        self.K = K\n",
    "        \n",
    "    def inputList(self):\n",
    "        l = input().split()\n",
    "        if len(l)!=self.K: sys.exit()  # N개를 입력받은 게 맞는 지\n",
    "        if any(i.isalpha() for i in l): sys.exit() # 원소 중에 하나라도 문자열이 잇을 경우\n",
    "        \n",
    "        return [int(i) for i in l]\n",
    "    \n",
    "    def changeValue(self):\n",
    "        for i in range(self.K):\n",
    "            min_a = min(self.A)  # a 배열 최솟값\n",
    "            max_b = max(self.B)  # b 배열 최댓값\n",
    "            self.A[self.A.index(min_a)] = max_b  \n",
    "            self.B[self.B.index(max_b)] = min_a\n",
    "        \n",
    "    def run(self):\n",
    "        self.inputAllValue()\n",
    "        self.changeValue()\n",
    "        self.max_sum = sum(self.A)\n",
    "        print(self.max_sum)"
   ]
  },
  {
   "cell_type": "code",
   "execution_count": null,
   "metadata": {},
   "outputs": [],
   "source": [
    "if __name__ == \"__main__\":\n",
    "    test = Change2List()\n",
    "    test.run()"
   ]
  },
  {
   "cell_type": "code",
   "execution_count": null,
   "metadata": {},
   "outputs": [],
   "source": [
    "print(\"햣\")"
   ]
  },
  {
   "cell_type": "code",
   "execution_count": null,
   "metadata": {},
   "outputs": [],
   "source": []
  }
 ],
 "metadata": {
  "kernelspec": {
   "display_name": "base",
   "language": "python",
   "name": "python3"
  },
  "language_info": {
   "codemirror_mode": {
    "name": "ipython",
    "version": 3
   },
   "file_extension": ".py",
   "mimetype": "text/x-python",
   "name": "python",
   "nbconvert_exporter": "python",
   "pygments_lexer": "ipython3",
   "version": "3.9.7"
  },
  "orig_nbformat": 4,
  "vscode": {
   "interpreter": {
    "hash": "f08154012ddadd8e950e6e9e035c7a7b32c136e7647e9b7c77e02eb723a8bedb"
   }
  }
 },
 "nbformat": 4,
 "nbformat_minor": 2
}
