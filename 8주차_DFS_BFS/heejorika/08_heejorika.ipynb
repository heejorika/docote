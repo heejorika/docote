{
 "cells": [
  {
   "cell_type": "code",
   "execution_count": null,
   "metadata": {},
   "outputs": [],
   "source": [
    "class iceMold:\n",
    "    def __init__(self, inputValue):\n",
    "        self.inputValue = inputValue\n",
    "        self.inputValueDict = dict()\n",
    "        \n",
    "    # 입력값의 문자열에서 0인 부분의 인덱스만 리스트로 모아서 반환\n",
    "    def check_zeroIndex(self, rowStr):\n",
    "        zeroIndexList = list()\n",
    "        \n",
    "        for colNum in range(len(rowStr)):\n",
    "            if rowStr[colNum] == '0':\n",
    "                zeroIndexList.append(colNum)\n",
    "        \n",
    "        return zeroIndexList\n",
    "                \n",
    "    # 처음 입력값을 딕셔너리로 분리\n",
    "    def classify_inputValue(self):\n",
    "        for rowNum, row in enumerate(self.inputValue): \n",
    "            zeroColIndex = self.check_zeroIndex(row)\n",
    "            if len(zeroColIndex)!=0: # 리스트 길이가 0이면 그 행에 0이 없다는 뜻\n",
    "                self.inputValueDict[rowNum]=zeroColIndex\n",
    "                \n",
    "    # 순차적이지 않은 포인트 체크\n",
    "    def check_nonSequentialPoint(self, colList):\n",
    "        pivot = colList[0], pivotStart = colList[0]  # 기준 인덱스\n",
    "        sequential_list = list()\n",
    "        \n",
    "        for col in colList:\n",
    "            if pivot != col:\n",
    "                sequential_list.appned(colList[pivotStart:pivot])\n",
    "                pivotStart = pivot\n",
    "            pivot+=1\n",
    "            \n",
    "        return sequential_list\n",
    "        \n",
    "    # 행별로 순차적인 열을 리스트로 묶기\n",
    "    def classify_sequentialInpuList(self):\n",
    "        for key in self.inputValueDict(): \n",
    "            valueList = self.check_nonSequentialPoint(self.inputValueDict[key])\n",
    "        \n",
    "    def run(self):\n",
    "        "
   ]
  },
  {
   "cell_type": "code",
   "execution_count": null,
   "metadata": {},
   "outputs": [],
   "source": [
    "class countIceMold:"
   ]
  },
  {
   "cell_type": "code",
   "execution_count": null,
   "metadata": {},
   "outputs": [],
   "source": [
    "# N, M = 3, 4  # N=행, M=열\n",
    "mold = ['00110', '00011', '11111', '00000']\n",
    "\n",
    "test_mold = iceMold(mold)\n",
    "test_mold.run()"
   ]
  },
  {
   "cell_type": "code",
   "execution_count": 10,
   "metadata": {},
   "outputs": [],
   "source": [
    "d = dict()\n",
    "d[0] = [0,1,4]\n",
    "d[1] = [0,1,2]"
   ]
  },
  {
   "cell_type": "code",
   "execution_count": 13,
   "metadata": {},
   "outputs": [
    {
     "name": "stdout",
     "output_type": "stream",
     "text": [
      "[0, 1, 4]\n",
      "[0, 1, 2]\n"
     ]
    }
   ],
   "source": [
    "for i in d:\n",
    "    print(d[i])"
   ]
  },
  {
   "cell_type": "code",
   "execution_count": null,
   "metadata": {},
   "outputs": [],
   "source": []
  }
 ],
 "metadata": {
  "kernelspec": {
   "display_name": "base",
   "language": "python",
   "name": "python3"
  },
  "language_info": {
   "codemirror_mode": {
    "name": "ipython",
    "version": 3
   },
   "file_extension": ".py",
   "mimetype": "text/x-python",
   "name": "python",
   "nbconvert_exporter": "python",
   "pygments_lexer": "ipython3",
   "version": "3.9.7"
  },
  "orig_nbformat": 4,
  "vscode": {
   "interpreter": {
    "hash": "f08154012ddadd8e950e6e9e035c7a7b32c136e7647e9b7c77e02eb723a8bedb"
   }
  }
 },
 "nbformat": 4,
 "nbformat_minor": 2
}
