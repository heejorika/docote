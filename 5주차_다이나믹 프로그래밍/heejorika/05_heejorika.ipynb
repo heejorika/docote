{
 "cells": [
  {
   "cell_type": "code",
   "execution_count": 2,
   "metadata": {},
   "outputs": [
    {
     "data": {
      "text/plain": [
       "False"
      ]
     },
     "execution_count": 2,
     "metadata": {},
     "output_type": "execute_result"
    }
   ],
   "source": [
    "1%2==0 "
   ]
  },
  {
   "cell_type": "code",
   "execution_count": null,
   "metadata": {},
   "outputs": [],
   "source": [
    "class Ant:\n",
    "    def __init__(self):\n",
    "        self.N = None; self.N_MIN = 3; self.N_MAX = 100\n",
    "        self.K = list(); self.K_MIN = 0; self.K_MAX = 1000\n",
    "        \n",
    "    def checkInputValueMinMax(self, value, valueMin, valueMax):\n",
    "        return True if value>=valueMin and value<=valueMax else False\n",
    "     \n",
    "    def inputFoodStorage(self):\n",
    "        try: value = int(input())\n",
    "        except: print(\"입력 에러.\"); return self.inputFoodStorage()\n",
    "            \n",
    "        if self.checkInputValueMinMax(value, self.N_MIN, self.N_MAX): return value\n",
    "        else: print(\"입력 크기 에러.\"); return self.inputFoodStorage()\n",
    "            \n",
    "    def inputInStorageFoodCount(self, value):\n",
    "        \n",
    "        \n",
    "    def inputValue(self):\n",
    "        self.N = self.inputFoodStorage()\n",
    "        self.inputFoodStorage(self.N)"
   ]
  }
 ],
 "metadata": {
  "kernelspec": {
   "display_name": "base",
   "language": "python",
   "name": "python3"
  },
  "language_info": {
   "codemirror_mode": {
    "name": "ipython",
    "version": 3
   },
   "file_extension": ".py",
   "mimetype": "text/x-python",
   "name": "python",
   "nbconvert_exporter": "python",
   "pygments_lexer": "ipython3",
   "version": "3.9.7"
  },
  "orig_nbformat": 4,
  "vscode": {
   "interpreter": {
    "hash": "f08154012ddadd8e950e6e9e035c7a7b32c136e7647e9b7c77e02eb723a8bedb"
   }
  }
 },
 "nbformat": 4,
 "nbformat_minor": 2
}
