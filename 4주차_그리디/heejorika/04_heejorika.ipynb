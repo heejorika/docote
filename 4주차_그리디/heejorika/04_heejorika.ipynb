{
 "cells": [
  {
   "cell_type": "code",
   "execution_count": 1,
   "metadata": {},
   "outputs": [],
   "source": [
    "class number:\n",
    "    def __init__(self):\n",
    "        self.N, self.K = None, None\n",
    "        self.N_MIN, N_MAX = 2, 100000\n",
    "        self.K_MIN, K_MAX = 2, 100000\n",
    "        \n",
    "    def checkNumMinMax(self, value, value_min, value_max):\n",
    "        return value>=value_min and value<=value_max\n",
    "        \n",
    "    def inputNK(self):\n",
    "        try:\n",
    "            n, k = map(int, input().split())\n",
    "        except:\n",
    "            print(\"입력 값 오류.\")\n",
    "            return self.inputNK()\n",
    "        \n",
    "        if n<k: \n",
    "            print(\"N은 K보다 크거나 같아야 합니다.\")\n",
    "            return self.inputNK()\n",
    "        \n",
    "        return n, k\n",
    "      \n",
    "    def inputValue(self):\n",
    "        self.N, self.K = self.inputNK()"
   ]
  },
  {
   "cell_type": "code",
   "execution_count": 9,
   "metadata": {},
   "outputs": [],
   "source": [
    "class calculate:\n",
    "    def __init__(self):\n",
    "        self.count = 0\n",
    "        self.num = None\n",
    "        \n",
    "    def minus1(self, value):\n",
    "        return value-1\n",
    "    \n",
    "    def division(self, value1, value2):\n",
    "        return value1//value2   \n",
    "    \n",
    "    def startCalculate(self):\n",
    "        n = self.num.N\n",
    "        \n",
    "        while (n!=1):\n",
    "            self.count+=1\n",
    "            if n%self.num.K == 0: n = self.division(n, self.num.K)\n",
    "            else: n = self.minus1(n)\n",
    "        \n",
    "    def run(self):\n",
    "        self.num = number(); self.num.inputValue()\n",
    "        self.startCalculate()"
   ]
  },
  {
   "cell_type": "code",
   "execution_count": 11,
   "metadata": {},
   "outputs": [
    {
     "data": {
      "text/plain": [
       "2"
      ]
     },
     "execution_count": 11,
     "metadata": {},
     "output_type": "execute_result"
    }
   ],
   "source": [
    "test = calculate()\n",
    "test.run()\n",
    "test.count"
   ]
  },
  {
   "cell_type": "code",
   "execution_count": null,
   "metadata": {},
   "outputs": [],
   "source": []
  }
 ],
 "metadata": {
  "kernelspec": {
   "display_name": "base",
   "language": "python",
   "name": "python3"
  },
  "language_info": {
   "codemirror_mode": {
    "name": "ipython",
    "version": 3
   },
   "file_extension": ".py",
   "mimetype": "text/x-python",
   "name": "python",
   "nbconvert_exporter": "python",
   "pygments_lexer": "ipython3",
   "version": "3.9.7"
  },
  "orig_nbformat": 4,
  "vscode": {
   "interpreter": {
    "hash": "f08154012ddadd8e950e6e9e035c7a7b32c136e7647e9b7c77e02eb723a8bedb"
   }
  }
 },
 "nbformat": 4,
 "nbformat_minor": 2
}
