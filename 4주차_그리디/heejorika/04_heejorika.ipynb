{
 "cells": [
  {
   "cell_type": "code",
   "execution_count": null,
   "metadata": {},
   "outputs": [],
   "source": [
    "class number:\n",
    "    def __init__(self):\n",
    "        self.N, self.K = None, None\n",
    "        self.N_MIN, N_MAX = 2, 100000\n",
    "        self.K_MIN, K_MAX = 2, 100000\n",
    "        \n",
    "    def checkNumMinMax(self, value, value_min, value_max):\n",
    "        return value>=value_min and value<=value_max\n",
    "        \n",
    "    def inputNK(self):\n",
    "        try:\n",
    "            n, k = map(int, input().split())\n",
    "        except:\n",
    "            print(\"입력 값 오류.\")\n",
    "            return self.inputNK()\n",
    "        \n",
    "        if n<k: \n",
    "            print(\"N은 K보다 크거나 같아야 합니다.\")\n",
    "            return self.inputNK()\n",
    "        \n",
    "        return n, k\n",
    "      \n",
    "    def inputValue(self):\n",
    "        self.N, self.K = self.inputValue()"
   ]
  },
  {
   "cell_type": "code",
   "execution_count": null,
   "metadata": {},
   "outputs": [
    {
     "ename": "",
     "evalue": "",
     "output_type": "error",
     "traceback": [
      "\u001b[1;31mCanceled future for execute_request message before replies were done"
     ]
    },
    {
     "ename": "",
     "evalue": "",
     "output_type": "error",
     "traceback": [
      "\u001b[1;31mThe Kernel crashed while executing code in the the current cell or a previous cell. Please review the code in the cell(s) to identify a possible cause of the failure. Click <a href='https://aka.ms/vscodeJupyterKernelCrash'>here</a> for more info. View Jupyter <a href='command:jupyter.viewOutput'>log</a> for further details."
     ]
    }
   ],
   "source": [
    "test = number()\n",
    "test.inputValue()"
   ]
  },
  {
   "cell_type": "code",
   "execution_count": null,
   "metadata": {},
   "outputs": [],
   "source": []
  }
 ],
 "metadata": {
  "kernelspec": {
   "display_name": "base",
   "language": "python",
   "name": "python3"
  },
  "language_info": {
   "codemirror_mode": {
    "name": "ipython",
    "version": 3
   },
   "file_extension": ".py",
   "mimetype": "text/x-python",
   "name": "python",
   "nbconvert_exporter": "python",
   "pygments_lexer": "ipython3",
   "version": "3.9.7"
  },
  "orig_nbformat": 4,
  "vscode": {
   "interpreter": {
    "hash": "f08154012ddadd8e950e6e9e035c7a7b32c136e7647e9b7c77e02eb723a8bedb"
   }
  }
 },
 "nbformat": 4,
 "nbformat_minor": 2
}
