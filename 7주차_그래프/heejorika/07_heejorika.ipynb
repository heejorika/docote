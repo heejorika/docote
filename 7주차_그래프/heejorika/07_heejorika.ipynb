{
 "cells": [
  {
   "cell_type": "code",
   "execution_count": 1,
   "metadata": {},
   "outputs": [],
   "source": [
    "N, M = 7, 8 # n=학생들 번호, m=연산횟수\n",
    "test = [[0,1,3],[1,1,7],[0,7,6],[1,7,1],[0,3,7],[0,4,2],[0,1,1],[1,1,1]] "
   ]
  },
  {
   "cell_type": "code",
   "execution_count": null,
   "metadata": {},
   "outputs": [],
   "source": [
    "def check_same_team(a, b): # a와 b가 같은 팀이면 Yes, 같은 팀이 아니면 No\n",
    "    "
   ]
  },
  {
   "cell_type": "code",
   "execution_count": null,
   "metadata": {},
   "outputs": [],
   "source": [
    "def combine_ab(a,b):\n",
    "    "
   ]
  },
  {
   "cell_type": "code",
   "execution_count": null,
   "metadata": {},
   "outputs": [],
   "source": [
    "team_list = [i for i in range(N+1)]\n",
    "\n",
    "for t in test:\n",
    "    calcul, a, b = t\n",
    "    if calcul==0: # a와 b를 합침 \n",
    "        combine_ab(a,b)\n",
    "    else: # a와 b가 같은 팀에 있는 지 확인 \n",
    "        check_same_team(a,b)"
   ]
  },
  {
   "cell_type": "code",
   "execution_count": null,
   "metadata": {},
   "outputs": [],
   "source": []
  }
 ],
 "metadata": {
  "kernelspec": {
   "display_name": "base",
   "language": "python",
   "name": "python3"
  },
  "language_info": {
   "codemirror_mode": {
    "name": "ipython",
    "version": 3
   },
   "file_extension": ".py",
   "mimetype": "text/x-python",
   "name": "python",
   "nbconvert_exporter": "python",
   "pygments_lexer": "ipython3",
   "version": "3.9.7"
  },
  "orig_nbformat": 4,
  "vscode": {
   "interpreter": {
    "hash": "f08154012ddadd8e950e6e9e035c7a7b32c136e7647e9b7c77e02eb723a8bedb"
   }
  }
 },
 "nbformat": 4,
 "nbformat_minor": 2
}
